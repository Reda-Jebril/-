{
  "cells": [
    {
      "cell_type": "markdown",
      "metadata": {
        "id": "view-in-github",
        "colab_type": "text"
      },
      "source": [
        "<a href=\"https://colab.research.google.com/github/Reda-Jebril/-/blob/main/Book-Converter.ipynb\" target=\"_parent\"><img src=\"https://colab.research.google.com/assets/colab-badge.svg\" alt=\"Open In Colab\"/></a>"
      ]
    },
    {
      "cell_type": "markdown",
      "metadata": {
        "id": "7yt9XU3dWaLf"
      },
      "source": [
        "<div dir=\"rtl\">\n",
        "  \n",
        "  <h1>تحويل الكتب</h1>\n",
        "  \n",
        "  <p>مرحبًا بك في «تحويل» لتحويل ملفات PDF إلى Word/DOCX و TXT باستخدام تقنيات الذكاء الاصطناعي. لاستخدام تحويل:</p>\n",
        "\n",
        "  <ol>\n",
        "    <li>حدِّد إذا ما كنت تريد إزالة الأسطر من ملف Word/DOCX أو لا من خلال الخيار الموجود في الأسفل.</li>\n",
        "    <li>شغِّل الخلية في الأسفل من خلال الضغط على الدائرة المحتوية على السهم.</li>\n",
        "  </ol>\n",
        "\n",
        "  <h3>خطوات التحويل:</h3>\n",
        "  <ul>\n",
        "    <li><b>بدء العملية:</b> اضغط على أيقونة التشغيل (الدائرة المحتوية على السهم) لبدء تجهيز بيئة العمل.</li>\n",
        "    <li><b>منح الصلاحيات:</b> ستظهر لك نافذة تطلب منك السماح بالوصول؛ وافق عليها واتبع التعليمات الموضحة.</li>\n",
        "    <li><b>اختيار الملفات:</b> بعد ذلك، ستظهر نافذة تطلب منك اختيار ملفاتك. حدد ملف أو ملفات الـ PDF التي تريد تحويلها.</li>\n",
        "    <li><b>التحويل والتنزيل:</b> بمجرد اختيار الملفات، ستبدأ عملية التحويل تلقائيًا. عند الانتهاء، سيتم تنزيل المخرجات (ملفات Word/DOCX و TXT) إلى حاسوبك مباشرةً.</li>\n",
        "  </ul>\n",
        "\n",
        "  <hr style=\"margin-top: 20px; margin-bottom: 10px;\">\n",
        "\n",
        "  <!-- === بداية كود التوقيع === -->\n",
        "  <div style=\"font-family: 'Cairo', cursive; font-size: 22px; text-align: left; padding: 0 15px;\">\n",
        "    رضا جبريل\n",
        "  </div>\n",
        "  <!-- === نهاية كود التوقيع === -->\n",
        "\n",
        "</div>"
      ]
    },
    {
      "cell_type": "code",
      "execution_count": null,
      "metadata": {
        "cellView": "form",
        "id": "Uf8p_j7vXHTg"
      },
      "outputs": [],
      "source": [
        "\n",
        "# @title <h1><center>تحويل</center></h1>\n",
        "\n",
        "print('جارٍ تجهيز بيئة العمل.')\n",
        "\n",
        "# Setup Tahweel.\n",
        "!pip install -U tahweel==0.1.0 > tahweel_logs.txt\n",
        "\n",
        "# Setup poppler-utils.\n",
        "!apt-get update > apt_update_logs.txt\n",
        "!apt-get install poppler-utils > apt_install_logs.txt\n",
        "\n",
        "# Get inputs.\n",
        "\n",
        "# @markdown <p dir=\"rtl\">إزالة الأسطر من ملفات Word/DOCX. هذا الاختيار مفيد في حال أردت أن تكون عدد صفحات ملف DOCX مساوياً لعدد صفحات ملف PDF.</p>\n",
        "docx_remove_newlines = 'نعم' # @param [\"نعم\", \"لا\"]\n",
        "\n",
        "# Imports.\n",
        "import os\n",
        "\n",
        "from pathlib import Path\n",
        "\n",
        "from google.colab.auth import authenticate_user\n",
        "from google.colab.files import upload, download\n",
        "\n",
        "if not os.path.exists('user_authenticated.txt'):\n",
        "  authenticate_user()\n",
        "  open('user_authenticated.txt', 'w').close()\n",
        "\n",
        "print('حدد الملف أو الملفات التي تريد تحويلها:')\n",
        "\n",
        "file_names = list(map(Path, upload().keys()))\n",
        "\n",
        "print('جارٍ تحويل الملفات.')\n",
        "\n",
        "file_names_argument = ' '.join([f'\"./{str(file_name)}\"' for file_name in file_names])\n",
        "\n",
        "if docx_remove_newlines == 'نعم':\n",
        "  docx_remove_newlines = '--docx-remove-newlines'\n",
        "else:\n",
        "  docx_remove_newlines = ''\n",
        "\n",
        "!tahweel $file_names_argument --dir-output-type side_by_side $docx_remove_newlines --service-account-credentials ./skip_service_account.json\n",
        "\n",
        "print('جارٍ تنزيل المخرجات.')\n",
        "\n",
        "for file_name in file_names:\n",
        "  if file_name.suffix == '.pdf':\n",
        "    download(file_name.with_suffix('.docx'))\n",
        "    download(file_name.with_suffix('.txt'))\n"
      ]
    },
    {
      "cell_type": "markdown",
      "metadata": {
        "id": "ekZOHD6403zs"
      },
      "source": [
        "<ul>\n",
        "  <li>\n",
        "    <img src=\"https://raw.githubusercontent.com/ieasybooks/tahweel/main/colab_images/1_run_warning.jpg\" width=\"600px\"/>\n",
        "  </li>\n",
        "  <li>\n",
        "    <img src=\"https://raw.githubusercontent.com/ieasybooks/tahweel/main/colab_images/2_credentials_warning.jpg\" width=\"600px\"/>\n",
        "  </li>\n",
        "  <li>\n",
        "    <img src=\"https://raw.githubusercontent.com/ieasybooks/tahweel/main/colab_images/3_choose_an_account.jpg\" width=\"600px\"/>\n",
        "  </li>\n",
        "  <li>\n",
        "    <img src=\"https://raw.githubusercontent.com/ieasybooks/tahweel/main/colab_images/4_sign_in.jpg\" width=\"600px\"/>\n",
        "  </li>\n",
        "  <li>\n",
        "    <img src=\"https://raw.githubusercontent.com/ieasybooks/tahweel/main/colab_images/5_permissions.jpg\" width=\"600px\"/>\n",
        "  </li>\n",
        "</ul>"
      ]
    }
  ],
  "metadata": {
    "colab": {
      "provenance": [],
      "include_colab_link": true
    },
    "kernelspec": {
      "display_name": "Python 3",
      "name": "python3"
    },
    "language_info": {
      "name": "python"
    }
  },
  "nbformat": 4,
  "nbformat_minor": 0
}